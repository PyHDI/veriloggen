{
 "cells": [
  {
   "cell_type": "code",
   "execution_count": 1,
   "metadata": {},
   "outputs": [
    {
     "data": {
      "application/javascript": [
       "\n",
       "require(['notebook/js/codecell'], function(codecell) {\n",
       "  codecell.CodeCell.options_default.highlight_modes[\n",
       "      'magic_text/x-csrc'] = {'reg':[/^%%microblaze/]};\n",
       "  Jupyter.notebook.events.one('kernel_ready.Kernel', function(){\n",
       "      Jupyter.notebook.get_cells().map(function(cell){\n",
       "          if (cell.cell_type == 'code'){ cell.auto_highlight(); } }) ;\n",
       "  });\n",
       "});\n"
      ]
     },
     "metadata": {},
     "output_type": "display_data"
    }
   ],
   "source": [
    "from pynq import Overlay, allocate\n",
    "import numpy as np"
   ]
  },
  {
   "cell_type": "code",
   "execution_count": 2,
   "metadata": {},
   "outputs": [
    {
     "data": {
      "text/plain": [
       "dict_keys(['blinkled_0/saxi'])"
      ]
     },
     "execution_count": 2,
     "metadata": {},
     "output_type": "execute_result"
    }
   ],
   "source": [
    "bitfile = \"stream_matmul.bit\"\n",
    "overlay = Overlay(bitfile)\n",
    "overlay.ip_dict.keys()"
   ]
  },
  {
   "cell_type": "code",
   "execution_count": 3,
   "metadata": {},
   "outputs": [],
   "source": [
    "blinkled = overlay.blinkled_0"
   ]
  },
  {
   "cell_type": "code",
   "execution_count": 4,
   "metadata": {},
   "outputs": [],
   "source": [
    "matrix_size = 16\n",
    "\n",
    "a = allocate(shape=(matrix_size, matrix_size), dtype=np.int32)\n",
    "b = allocate(shape=(matrix_size, matrix_size), dtype=np.int32)\n",
    "c = allocate(shape=(matrix_size, matrix_size), dtype=np.int32)\n",
    "\n",
    "a_addr = a.physical_address\n",
    "b_addr = b.physical_address\n",
    "c_addr = c.physical_address"
   ]
  },
  {
   "cell_type": "code",
   "execution_count": 5,
   "metadata": {},
   "outputs": [
    {
     "name": "stdout",
     "output_type": "stream",
     "text": [
      "[[0 0 0 0 0 0 0 0 0 0 0 0 0 0 0 0]\n",
      " [0 0 0 0 0 0 0 0 0 0 0 0 0 0 0 0]\n",
      " [0 0 0 0 0 0 0 0 0 0 0 0 0 0 0 0]\n",
      " [0 0 0 0 0 0 0 0 0 0 0 0 0 0 0 0]\n",
      " [0 0 0 0 0 0 0 0 0 0 0 0 0 0 0 0]\n",
      " [0 0 0 0 0 0 0 0 0 0 0 0 0 0 0 0]\n",
      " [0 0 0 0 0 0 0 0 0 0 0 0 0 0 0 0]\n",
      " [0 0 0 0 0 0 0 0 0 0 0 0 0 0 0 0]\n",
      " [0 0 0 0 0 0 0 0 0 0 0 0 0 0 0 0]\n",
      " [0 0 0 0 0 0 0 0 0 0 0 0 0 0 0 0]\n",
      " [0 0 0 0 0 0 0 0 0 0 0 0 0 0 0 0]\n",
      " [0 0 0 0 0 0 0 0 0 0 0 0 0 0 0 0]\n",
      " [0 0 0 0 0 0 0 0 0 0 0 0 0 0 0 0]\n",
      " [0 0 0 0 0 0 0 0 0 0 0 0 0 0 0 0]\n",
      " [0 0 0 0 0 0 0 0 0 0 0 0 0 0 0 0]\n",
      " [0 0 0 0 0 0 0 0 0 0 0 0 0 0 0 0]]\n"
     ]
    }
   ],
   "source": [
    "a[:] = np.random.randint(-20, 20, (matrix_size, matrix_size), dtype=np.int32)\n",
    "b[:] = np.random.randint(-20, 20, (matrix_size, matrix_size), dtype=np.int32).T\n",
    "c[:] = np.zeros((matrix_size, matrix_size), dtype=np.int32)\n",
    "print(c)"
   ]
  },
  {
   "cell_type": "code",
   "execution_count": 6,
   "metadata": {},
   "outputs": [],
   "source": [
    "# matrix_size, a_offset, b_offset, c_offset\n",
    "blinkled.saxi.write(1 * 4, matrix_size)\n",
    "blinkled.saxi.write(2 * 4, a_addr)\n",
    "blinkled.saxi.write(3 * 4, b_addr)\n",
    "blinkled.saxi.write(4 * 4, c_addr)\n",
    "\n",
    "# start\n",
    "blinkled.saxi.write(0 * 4, 1)\n",
    "\n",
    "# busy wait\n",
    "while True:\n",
    "    busy = blinkled.saxi.read(5 * 4)\n",
    "    if not busy:\n",
    "        break"
   ]
  },
  {
   "cell_type": "code",
   "execution_count": 7,
   "metadata": {},
   "outputs": [
    {
     "name": "stdout",
     "output_type": "stream",
     "text": [
      "[[ -313  -625  -221   527   361  -956  -382  -983  -406   -19   993   -54\n",
      "    -80  -507  -261     4]\n",
      " [  159   108   924  -130  -512   857  -341  -349  -146     4   726  -242\n",
      "    334   -58   345    16]\n",
      " [  -10  -112  -282   360  -439   289   642  -719   117   205  -118  -254\n",
      "   -913   115  -122  -588]\n",
      " [  828  -389   902   652   114   166   307   166    60   153   831  -392\n",
      "   -292   137  -532   578]\n",
      " [    5   819   137   143   836   198   -43  -296    70   -92   -68   443\n",
      "   -479   275  -481  -738]\n",
      " [  415  1294  -331    50  -519   420  -580    -2  -200  -126  -519  -406\n",
      "     87    95   339  -822]\n",
      " [  272  1037   729  -304  -856  1164  -124  -464  -495   -71   376  -112\n",
      "    377   -62  -648  -293]\n",
      " [ -448    38  -546   188   199  -946   -47  -536  -441  -146  -898  -562\n",
      "   -830   -46   374  -449]\n",
      " [  -31  -838  -335    -8  -317 -1030   217   170   -80   470  -334  -725\n",
      "    222  -324  1393  1024]\n",
      " [  658   216   865  -235    -7  -622  -748 -1428  -276  -690   145  -869\n",
      "    577   -40   834    38]\n",
      " [  418    50   158   282  -837  -113  -704  -716  -494  -446  -776  -447\n",
      "    481  -264  1546  -462]\n",
      " [ -317   649  -169  -338    30   390  -475  -449   -52    -7   196   608\n",
      "    791  -159  -467     7]\n",
      " [ -139   175   576    52   142    49   108   153  -747   404  -135   474\n",
      "   -441   343  -595     7]\n",
      " [  949   431   559  -315  -658   370  -195   164   395   -30   595 -1164\n",
      "   1388   -91   233   407]\n",
      " [ -161   -58   441    55  -308  1075   259  -512   459  -109    47    33\n",
      "    328    16    86  -449]\n",
      " [ -835    59 -1382  -302  -122  -485   127   123  -282   142  -494   446\n",
      "   -798  -253   -11   -63]]\n"
     ]
    }
   ],
   "source": [
    "print(c)"
   ]
  },
  {
   "cell_type": "code",
   "execution_count": 8,
   "metadata": {},
   "outputs": [
    {
     "name": "stdout",
     "output_type": "stream",
     "text": [
      "[[ -313  -625  -221   527   361  -956  -382  -983  -406   -19   993   -54\n",
      "    -80  -507  -261     4]\n",
      " [  159   108   924  -130  -512   857  -341  -349  -146     4   726  -242\n",
      "    334   -58   345    16]\n",
      " [  -10  -112  -282   360  -439   289   642  -719   117   205  -118  -254\n",
      "   -913   115  -122  -588]\n",
      " [  828  -389   902   652   114   166   307   166    60   153   831  -392\n",
      "   -292   137  -532   578]\n",
      " [    5   819   137   143   836   198   -43  -296    70   -92   -68   443\n",
      "   -479   275  -481  -738]\n",
      " [  415  1294  -331    50  -519   420  -580    -2  -200  -126  -519  -406\n",
      "     87    95   339  -822]\n",
      " [  272  1037   729  -304  -856  1164  -124  -464  -495   -71   376  -112\n",
      "    377   -62  -648  -293]\n",
      " [ -448    38  -546   188   199  -946   -47  -536  -441  -146  -898  -562\n",
      "   -830   -46   374  -449]\n",
      " [  -31  -838  -335    -8  -317 -1030   217   170   -80   470  -334  -725\n",
      "    222  -324  1393  1024]\n",
      " [  658   216   865  -235    -7  -622  -748 -1428  -276  -690   145  -869\n",
      "    577   -40   834    38]\n",
      " [  418    50   158   282  -837  -113  -704  -716  -494  -446  -776  -447\n",
      "    481  -264  1546  -462]\n",
      " [ -317   649  -169  -338    30   390  -475  -449   -52    -7   196   608\n",
      "    791  -159  -467     7]\n",
      " [ -139   175   576    52   142    49   108   153  -747   404  -135   474\n",
      "   -441   343  -595     7]\n",
      " [  949   431   559  -315  -658   370  -195   164   395   -30   595 -1164\n",
      "   1388   -91   233   407]\n",
      " [ -161   -58   441    55  -308  1075   259  -512   459  -109    47    33\n",
      "    328    16    86  -449]\n",
      " [ -835    59 -1382  -302  -122  -485   127   123  -282   142  -494   446\n",
      "   -798  -253   -11   -63]]\n"
     ]
    }
   ],
   "source": [
    "expected = np.matmul(a, b.T)\n",
    "print(expected)"
   ]
  },
  {
   "cell_type": "code",
   "execution_count": 9,
   "metadata": {},
   "outputs": [
    {
     "name": "stdout",
     "output_type": "stream",
     "text": [
      "0\n"
     ]
    }
   ],
   "source": [
    "diff_sum = np.sum(expected - c)\n",
    "print(diff_sum)"
   ]
  },
  {
   "cell_type": "code",
   "execution_count": null,
   "metadata": {},
   "outputs": [],
   "source": []
  }
 ],
 "metadata": {
  "kernelspec": {
   "display_name": "Python 3",
   "language": "python",
   "name": "python3"
  },
  "language_info": {
   "codemirror_mode": {
    "name": "ipython",
    "version": 3
   },
   "file_extension": ".py",
   "mimetype": "text/x-python",
   "name": "python",
   "nbconvert_exporter": "python",
   "pygments_lexer": "ipython3",
   "version": "3.6.5"
  }
 },
 "nbformat": 4,
 "nbformat_minor": 2
}
