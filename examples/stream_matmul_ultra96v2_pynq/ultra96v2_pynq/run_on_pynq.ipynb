{
 "cells": [
  {
   "cell_type": "code",
   "execution_count": 1,
   "metadata": {},
   "outputs": [
    {
     "data": {
      "application/javascript": [
       "\n",
       "require(['notebook/js/codecell'], function(codecell) {\n",
       "  codecell.CodeCell.options_default.highlight_modes[\n",
       "      'magic_text/x-csrc'] = {'reg':[/^%%microblaze/]};\n",
       "  Jupyter.notebook.events.one('kernel_ready.Kernel', function(){\n",
       "      Jupyter.notebook.get_cells().map(function(cell){\n",
       "          if (cell.cell_type == 'code'){ cell.auto_highlight(); } }) ;\n",
       "  });\n",
       "});\n"
      ]
     },
     "metadata": {},
     "output_type": "display_data"
    }
   ],
   "source": [
    "from pynq import Overlay, allocate\n",
    "import numpy as np"
   ]
  },
  {
   "cell_type": "code",
   "execution_count": 2,
   "metadata": {},
   "outputs": [
    {
     "data": {
      "text/plain": [
       "dict_keys(['blinkled_0/saxi'])"
      ]
     },
     "execution_count": 2,
     "metadata": {},
     "output_type": "execute_result"
    }
   ],
   "source": [
    "bitfile = \"stream_matmul.bit\"\n",
    "overlay = Overlay(bitfile)\n",
    "overlay.ip_dict.keys()"
   ]
  },
  {
   "cell_type": "code",
   "execution_count": 3,
   "metadata": {},
   "outputs": [],
   "source": [
    "blinkled = overlay.blinkled_0"
   ]
  },
  {
   "cell_type": "code",
   "execution_count": 4,
   "metadata": {},
   "outputs": [],
   "source": [
    "matrix_size = 256\n",
    "\n",
    "a = allocate(shape=(matrix_size, matrix_size), dtype=np.int32)\n",
    "b = allocate(shape=(matrix_size, matrix_size), dtype=np.int32)\n",
    "c = allocate(shape=(matrix_size, matrix_size), dtype=np.int32)\n",
    "\n",
    "a_addr = a.physical_address\n",
    "b_addr = b.physical_address\n",
    "c_addr = c.physical_address"
   ]
  },
  {
   "cell_type": "code",
   "execution_count": 5,
   "metadata": {},
   "outputs": [
    {
     "name": "stdout",
     "output_type": "stream",
     "text": [
      "[0 0 0 0 0 0 0 0 0 0 0 0 0 0 0 0]\n"
     ]
    }
   ],
   "source": [
    "a[:] = np.random.randint(-20, 20, (matrix_size, matrix_size), dtype=np.int32)\n",
    "# matrix b should be transposed\n",
    "b[:] = np.random.randint(-20, 20, (matrix_size, matrix_size), dtype=np.int32)\n",
    "c[:] = np.zeros((matrix_size, matrix_size), dtype=np.int32)\n",
    "print(c.reshape([-1])[-16:])"
   ]
  },
  {
   "cell_type": "code",
   "execution_count": 6,
   "metadata": {},
   "outputs": [],
   "source": [
    "# matrix_size, a_offset, b_offset, c_offset\n",
    "blinkled.saxi.write(2 * 4, matrix_size)\n",
    "blinkled.saxi.write(3 * 4, a_addr)\n",
    "blinkled.saxi.write(4 * 4, b_addr)\n",
    "blinkled.saxi.write(5 * 4, c_addr)\n",
    "\n",
    "# start\n",
    "blinkled.saxi.write(0 * 4, 1)\n",
    "\n",
    "# busy wait\n",
    "while True:\n",
    "    busy = blinkled.saxi.read(1 * 4)\n",
    "    if not busy:\n",
    "        break"
   ]
  },
  {
   "cell_type": "code",
   "execution_count": 7,
   "metadata": {},
   "outputs": [
    {
     "name": "stdout",
     "output_type": "stream",
     "text": [
      "[  584  3191  2106 -2337  -335 -3044  1575   385    90 -2217  3102  1482\n",
      "  2036  1597  1758  1869]\n"
     ]
    }
   ],
   "source": [
    "print(c.reshape([-1])[-16:])"
   ]
  },
  {
   "cell_type": "code",
   "execution_count": 8,
   "metadata": {},
   "outputs": [
    {
     "name": "stdout",
     "output_type": "stream",
     "text": [
      "[  584  3191  2106 -2337  -335 -3044  1575   385    90 -2217  3102  1482\n",
      "  2036  1597  1758  1869]\n"
     ]
    }
   ],
   "source": [
    "expected = np.matmul(a, b.T)\n",
    "print(expected.reshape([-1])[-16:])"
   ]
  },
  {
   "cell_type": "code",
   "execution_count": 9,
   "metadata": {},
   "outputs": [
    {
     "name": "stdout",
     "output_type": "stream",
     "text": [
      "0\n"
     ]
    }
   ],
   "source": [
    "diff_sum = np.sum(expected - c)\n",
    "print(diff_sum)"
   ]
  },
  {
   "cell_type": "code",
   "execution_count": null,
   "metadata": {},
   "outputs": [],
   "source": []
  }
 ],
 "metadata": {
  "kernelspec": {
   "display_name": "Python 3",
   "language": "python",
   "name": "python3"
  },
  "language_info": {
   "codemirror_mode": {
    "name": "ipython",
    "version": 3
   },
   "file_extension": ".py",
   "mimetype": "text/x-python",
   "name": "python",
   "nbconvert_exporter": "python",
   "pygments_lexer": "ipython3",
   "version": "3.6.5"
  }
 },
 "nbformat": 4,
 "nbformat_minor": 2
}
