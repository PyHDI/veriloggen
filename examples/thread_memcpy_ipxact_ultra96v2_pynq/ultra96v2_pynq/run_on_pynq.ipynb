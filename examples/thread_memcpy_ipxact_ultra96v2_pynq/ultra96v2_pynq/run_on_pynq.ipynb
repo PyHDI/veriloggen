{
 "cells": [
  {
   "cell_type": "code",
   "execution_count": 1,
   "metadata": {},
   "outputs": [
    {
     "data": {
      "application/javascript": [
       "\n",
       "require(['notebook/js/codecell'], function(codecell) {\n",
       "  codecell.CodeCell.options_default.highlight_modes[\n",
       "      'magic_text/x-csrc'] = {'reg':[/^%%microblaze/]};\n",
       "  Jupyter.notebook.events.one('kernel_ready.Kernel', function(){\n",
       "      Jupyter.notebook.get_cells().map(function(cell){\n",
       "          if (cell.cell_type == 'code'){ cell.auto_highlight(); } }) ;\n",
       "  });\n",
       "});\n"
      ]
     },
     "metadata": {},
     "output_type": "display_data"
    }
   ],
   "source": [
    "from pynq import Overlay, allocate\n",
    "import numpy as np"
   ]
  },
  {
   "cell_type": "code",
   "execution_count": 2,
   "metadata": {},
   "outputs": [
    {
     "data": {
      "text/plain": [
       "dict_keys(['memcpy_0'])"
      ]
     },
     "execution_count": 2,
     "metadata": {},
     "output_type": "execute_result"
    }
   ],
   "source": [
    "bitfile = \"thread_memcpy_ipxact.bit\"\n",
    "overlay = Overlay(bitfile)\n",
    "overlay.ip_dict.keys()"
   ]
  },
  {
   "cell_type": "code",
   "execution_count": 3,
   "metadata": {},
   "outputs": [],
   "source": [
    "memcpy = overlay.memcpy_0"
   ]
  },
  {
   "cell_type": "code",
   "execution_count": 4,
   "metadata": {},
   "outputs": [],
   "source": [
    "num_words = 1024 * 128\n",
    "\n",
    "a = allocate(shape=(num_words,), dtype=np.int32)\n",
    "b = allocate(shape=(num_words,), dtype=np.int32)\n",
    "\n",
    "a_addr = a.physical_address\n",
    "b_addr = b.physical_address"
   ]
  },
  {
   "cell_type": "code",
   "execution_count": 5,
   "metadata": {},
   "outputs": [
    {
     "name": "stdout",
     "output_type": "stream",
     "text": [
      "[0 0 0 0 0 0 0 0 0 0 0 0 0 0 0 0]\n"
     ]
    }
   ],
   "source": [
    "a[:] = np.random.randint(-20, 20, (num_words,), dtype=np.int32)\n",
    "b[:] = np.zeros((num_words,), dtype=np.int32)\n",
    "print(b[-16:])"
   ]
  },
  {
   "cell_type": "code",
   "execution_count": 6,
   "metadata": {},
   "outputs": [],
   "source": [
    "copy_bytes = a.nbytes\n",
    "\n",
    "# copy_bytes, a_offset, b_offset\n",
    "memcpy.write(2 * 4, copy_bytes)\n",
    "memcpy.write(3 * 4, a_addr)\n",
    "memcpy.write(4 * 4, b_addr)\n",
    "\n",
    "# start\n",
    "memcpy.write(0 * 4, 1)\n",
    "\n",
    "# busy wait\n",
    "while True:\n",
    "    busy = memcpy.read(1 * 4)\n",
    "    if not busy:\n",
    "        break"
   ]
  },
  {
   "cell_type": "code",
   "execution_count": 7,
   "metadata": {},
   "outputs": [
    {
     "name": "stdout",
     "output_type": "stream",
     "text": [
      "[-16 -18  -9 -19  15  17   2  -9  11   7  18 -17  -2  -7  19   0]\n"
     ]
    }
   ],
   "source": [
    "print(b[-16:])"
   ]
  },
  {
   "cell_type": "code",
   "execution_count": 8,
   "metadata": {},
   "outputs": [
    {
     "name": "stdout",
     "output_type": "stream",
     "text": [
      "[-16 -18  -9 -19  15  17   2  -9  11   7  18 -17  -2  -7  19   0]\n"
     ]
    }
   ],
   "source": [
    "expected = a\n",
    "print(expected[-16:])"
   ]
  },
  {
   "cell_type": "code",
   "execution_count": 9,
   "metadata": {},
   "outputs": [
    {
     "name": "stdout",
     "output_type": "stream",
     "text": [
      "0\n"
     ]
    }
   ],
   "source": [
    "diff_sum = np.sum(expected - b)\n",
    "print(diff_sum)"
   ]
  },
  {
   "cell_type": "code",
   "execution_count": null,
   "metadata": {},
   "outputs": [],
   "source": []
  }
 ],
 "metadata": {
  "kernelspec": {
   "display_name": "Python 3",
   "language": "python",
   "name": "python3"
  },
  "language_info": {
   "codemirror_mode": {
    "name": "ipython",
    "version": 3
   },
   "file_extension": ".py",
   "mimetype": "text/x-python",
   "name": "python",
   "nbconvert_exporter": "python",
   "pygments_lexer": "ipython3",
   "version": "3.6.5"
  }
 },
 "nbformat": 4,
 "nbformat_minor": 2
}
